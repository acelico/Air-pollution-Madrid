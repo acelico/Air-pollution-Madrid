{
 "cells": [
  {
   "cell_type": "code",
   "execution_count": 1,
   "id": "fe64eefa",
   "metadata": {},
   "outputs": [],
   "source": [
    "import pandas as pd\n",
    "import numpy as np\n",
    "import os\n",
    "import shapely\n",
    "from shapely.geometry import Point, Polygon\n",
    "import geopandas as gpd"
   ]
  },
  {
   "cell_type": "code",
   "execution_count": 34,
   "id": "3394d3a7",
   "metadata": {},
   "outputs": [],
   "source": [
    "#load datasets\n",
    "air_locations = pd.read_csv(\"D:\\\\Data projects\\\\Air pollution Madrid\\\\data\\\\locations\\\\air_quality_locations.csv\",sep=\";\")\n",
    "traffic_locations = pd.read_csv(\"D:\\\\Data projects\\\\Air pollution Madrid\\\\data\\\\locations\\\\traffic_locations.csv\",sep=\";\")\n",
    "meteo_locations = pd.read_csv(\"D:\\\\Data projects\\\\Air pollution Madrid\\\\data\\\\locations\\\\meteo_locations.csv\",sep=\";\")\n"
   ]
  },
  {
   "cell_type": "code",
   "execution_count": 35,
   "id": "aa045c33",
   "metadata": {},
   "outputs": [
    {
     "name": "stdout",
     "output_type": "stream",
     "text": [
      "DataFrames have been saved to CSV files.\n"
     ]
    }
   ],
   "source": [
    "#rename columns\n",
    "meteo_locations = meteo_locations.rename(columns={'CÓDIGO': 'ID', 'CÓDIGO CORTO': 'ID CORTO'})\n",
    "air_locations = air_locations.rename(columns={'CODIGO': 'ID', 'CÓDIGO CORTO': 'ID CORTO'})\n",
    "traffic_locations = traffic_locations.rename(columns= {\"id\":\"ID\",\"longitud\": \"LONGITUD\",\"latitud\":\"LATITUD\"})\n",
    "#filter columns\n",
    "\n",
    "df_list= [meteo_locations, traffic_locations, air_locations]\n",
    "col_to_keep = [\"ID\",\"LATITUD\", \"LONGITUD\"]\n",
    "\n",
    "for i, df in enumerate(df_list):\n",
    "    df_list[i] = df[[col for col in col_to_keep if col in df.columns]]\n",
    "\n",
    "#reassign names to modified datasets\n",
    "meteo_locations,traffic_locations, air_locations = df_list[0] , df_list[1], df_list[2] \n",
    "\n",
    "# Save the modified DataFrames to CSV files\n",
    "folder = \"D:\\\\Data projects\\\\Air pollution Madrid\\\\data\\\\locations\"\n",
    "meteo_locations.to_csv(os.path.join(folder,'meteo_locations_modified.csv'), index=False)\n",
    "traffic_locations.to_csv(os.path.join(folder,'traffic_locations_modified.csv'), index=False)\n",
    "air_locations.to_csv(os.path.join(folder,'air_locations_modified.csv'), index=False)\n",
    "\n",
    "# Print confirmation\n",
    "print(\"DataFrames have been saved to CSV files.\")\n"
   ]
  }
 ],
 "metadata": {
  "kernelspec": {
   "display_name": "Python 3 (ipykernel)",
   "language": "python",
   "name": "python3"
  },
  "language_info": {
   "codemirror_mode": {
    "name": "ipython",
    "version": 3
   },
   "file_extension": ".py",
   "mimetype": "text/x-python",
   "name": "python",
   "nbconvert_exporter": "python",
   "pygments_lexer": "ipython3",
   "version": "3.11.7"
  }
 },
 "nbformat": 4,
 "nbformat_minor": 5
}
