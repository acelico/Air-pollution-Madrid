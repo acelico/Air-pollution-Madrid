{
 "cells": [
  {
   "cell_type": "code",
   "execution_count": 10,
   "id": "7655e2ab",
   "metadata": {},
   "outputs": [
    {
     "name": "stdout",
     "output_type": "stream",
     "text": [
      "Requirement already satisfied: shapely in c:\\users\\usuario\\anaconda3\\lib\\site-packages (2.0.5)\n",
      "Requirement already satisfied: numpy<3,>=1.14 in c:\\users\\usuario\\anaconda3\\lib\\site-packages (from shapely) (1.26.4)\n",
      "Requirement already satisfied: geopandas in c:\\users\\usuario\\anaconda3\\lib\\site-packages (1.0.1)\n",
      "Requirement already satisfied: numpy>=1.22 in c:\\users\\usuario\\anaconda3\\lib\\site-packages (from geopandas) (1.26.4)\n",
      "Requirement already satisfied: pyogrio>=0.7.2 in c:\\users\\usuario\\anaconda3\\lib\\site-packages (from geopandas) (0.9.0)\n",
      "Requirement already satisfied: packaging in c:\\users\\usuario\\anaconda3\\lib\\site-packages (from geopandas) (23.1)\n",
      "Requirement already satisfied: pandas>=1.4.0 in c:\\users\\usuario\\anaconda3\\lib\\site-packages (from geopandas) (2.1.4)\n",
      "Requirement already satisfied: pyproj>=3.3.0 in c:\\users\\usuario\\anaconda3\\lib\\site-packages (from geopandas) (3.6.1)\n",
      "Requirement already satisfied: shapely>=2.0.0 in c:\\users\\usuario\\anaconda3\\lib\\site-packages (from geopandas) (2.0.5)\n",
      "Requirement already satisfied: python-dateutil>=2.8.2 in c:\\users\\usuario\\anaconda3\\lib\\site-packages (from pandas>=1.4.0->geopandas) (2.8.2)\n",
      "Requirement already satisfied: pytz>=2020.1 in c:\\users\\usuario\\anaconda3\\lib\\site-packages (from pandas>=1.4.0->geopandas) (2023.3.post1)\n",
      "Requirement already satisfied: tzdata>=2022.1 in c:\\users\\usuario\\anaconda3\\lib\\site-packages (from pandas>=1.4.0->geopandas) (2023.3)\n",
      "Requirement already satisfied: certifi in c:\\users\\usuario\\anaconda3\\lib\\site-packages (from pyogrio>=0.7.2->geopandas) (2024.2.2)\n",
      "Requirement already satisfied: six>=1.5 in c:\\users\\usuario\\anaconda3\\lib\\site-packages (from python-dateutil>=2.8.2->pandas>=1.4.0->geopandas) (1.16.0)\n",
      "done\n"
     ]
    }
   ],
   "source": [
    "import pandas as pd\n",
    "import numpy as np\n",
    "import os\n",
    "import shapely\n",
    "from shapely.geometry import Point, Polygon\n",
    "import geopandas as gpd\n",
    "\n",
    "print(\"done\")\n"
   ]
  },
  {
   "cell_type": "code",
   "execution_count": 11,
   "id": "6524077d",
   "metadata": {},
   "outputs": [
    {
     "ename": "NameError",
     "evalue": "name 'list_of_air' is not defined",
     "output_type": "error",
     "traceback": [
      "\u001b[1;31m---------------------------------------------------------------------------\u001b[0m",
      "\u001b[1;31mNameError\u001b[0m                                 Traceback (most recent call last)",
      "Cell \u001b[1;32mIn[11], line 5\u001b[0m\n\u001b[0;32m      3\u001b[0m     air_folder\u001b[38;5;241m=\u001b[39m\u001b[38;5;124m\"\u001b[39m\u001b[38;5;124mC:\u001b[39m\u001b[38;5;130;01m\\\\\u001b[39;00m\u001b[38;5;124mUsers\u001b[39m\u001b[38;5;130;01m\\\\\u001b[39;00m\u001b[38;5;124musuario\u001b[39m\u001b[38;5;130;01m\\\\\u001b[39;00m\u001b[38;5;124mDesktop\u001b[39m\u001b[38;5;130;01m\\\\\u001b[39;00m\u001b[38;5;124mAir pollution Madrid\u001b[39m\u001b[38;5;130;01m\\\\\u001b[39;00m\u001b[38;5;124mdata\u001b[39m\u001b[38;5;130;01m\\\\\u001b[39;00m\u001b[38;5;124mair data\u001b[39m\u001b[38;5;130;01m\\\\\u001b[39;00m\u001b[38;5;124mCalidad aire 2024\u001b[39m\u001b[38;5;130;01m\\\\\u001b[39;00m\u001b[38;5;124mpollution\u001b[39m\u001b[38;5;124m\"\u001b[39m\n\u001b[0;32m      4\u001b[0m     list_of_air\u001b[38;5;241m=\u001b[39mos\u001b[38;5;241m.\u001b[39mlistdir(air_folder)\n\u001b[1;32m----> 5\u001b[0m list_of_air\n",
      "\u001b[1;31mNameError\u001b[0m: name 'list_of_air' is not defined"
     ]
    }
   ],
   "source": [
    "def get_air_dataset():\n",
    "    # defines a function to \n",
    "    air_folder=\"C:\\\\Users\\\\usuario\\\\Desktop\\\\Air pollution Madrid\\\\data\\\\air data\\\\Calidad aire 2024\\\\pollution\"\n",
    "    list_of_air_files=os.listdir(air_folder)\n"
   ]
  },
  {
   "cell_type": "code",
   "execution_count": 15,
   "id": "79467a3c",
   "metadata": {},
   "outputs": [
    {
     "data": {
      "text/plain": [
       "['abr_mo24.csv', 'may_mo24.csv']"
      ]
     },
     "execution_count": 15,
     "metadata": {},
     "output_type": "execute_result"
    }
   ],
   "source": [
    "air_folder=\"C:\\\\Users\\\\usuario\\\\Desktop\\\\Air pollution Madrid\\\\data\\\\air data\\\\Calidad aire 2024\\\\pollution\"\n",
    "list_of_air_files=os.listdir(air_folder)\n",
    "#Select only csv files for may and april\n",
    "filtered_files = []\n",
    "# Iterate over each file in the file_list\n",
    "for file in list_of_air_files:\n",
    "    # Check if the file ends with '.csv' and starts with 'abr' or 'may'\n",
    "    if file.endswith('.csv') and (file.startswith('abr') or file.startswith('may')):\n",
    "        # Add the file to the filtered_files list\n",
    "        filtered_files.append(file)\n",
    "filtered_files"
   ]
  }
 ],
 "metadata": {
  "kernelspec": {
   "display_name": "Python 3 (ipykernel)",
   "language": "python",
   "name": "python3"
  },
  "language_info": {
   "codemirror_mode": {
    "name": "ipython",
    "version": 3
   },
   "file_extension": ".py",
   "mimetype": "text/x-python",
   "name": "python",
   "nbconvert_exporter": "python",
   "pygments_lexer": "ipython3",
   "version": "3.11.7"
  }
 },
 "nbformat": 4,
 "nbformat_minor": 5
}
